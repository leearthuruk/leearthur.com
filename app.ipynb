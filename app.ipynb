{
  "nbformat": 4,
  "nbformat_minor": 0,
  "metadata": {
    "colab": {
      "provenance": [],
      "authorship_tag": "ABX9TyPWe2ZhEY/t9xUYM48zMTY8",
      "include_colab_link": true
    },
    "kernelspec": {
      "name": "python3",
      "display_name": "Python 3"
    },
    "language_info": {
      "name": "python"
    }
  },
  "cells": [
    {
      "cell_type": "markdown",
      "metadata": {
        "id": "view-in-github",
        "colab_type": "text"
      },
      "source": [
        "<a href=\"https://colab.research.google.com/github/leearthuruk/leearthur.com/blob/master/app.ipynb\" target=\"_parent\"><img src=\"https://colab.research.google.com/assets/colab-badge.svg\" alt=\"Open In Colab\"/></a>"
      ]
    },
    {
      "cell_type": "code",
      "execution_count": null,
      "metadata": {
        "id": "dE_oWI2pfOeL"
      },
      "outputs": [],
      "source": [
        "from flask import Flask, render_template, request, redirect, url_for\n",
        "import pandas as pd\n",
        "\n",
        "app = Flask(__name__)\n",
        "\n",
        "# Initialize DataFrames as a temporary data store\n",
        "campaigns = pd.DataFrame(columns=['id', 'name', 'start_date', 'end_date', 'status', 'type'])\n",
        "inventory = pd.DataFrame(columns=['id', 'media_name', 'type', 'total_slots', 'available_slots'])\n",
        "\n",
        "@app.route('/')\n",
        "def index():\n",
        "    return render_template('index.html', inventory=inventory, campaigns=campaigns)\n",
        "\n",
        "@app.route('/add_inventory', methods=['POST'])\n",
        "def add_inventory():\n",
        "    global inventory\n",
        "    media_name = request.form['media_name']\n",
        "    ad_type = request.form['ad_type']\n",
        "    total_slots = int(request.form['total_slots'])\n",
        "\n",
        "    # Add to inventory DataFrame\n",
        "    new_entry = {'id': len(inventory) + 1, 'media_name': media_name, 'type': ad_type, 'total_slots': total_slots, 'available_slots': total_slots}\n",
        "    inventory = inventory.append(new_entry, ignore_index=True)\n",
        "    return redirect(url_for('index'))\n",
        "\n",
        "@app.route('/add_campaign', methods=['POST'])\n",
        "def add_campaign():\n",
        "    global campaigns\n",
        "    name = request.form['campaign_name']\n",
        "    start_date = request.form['start_date']\n",
        "    end_date = request.form['end_date']\n",
        "    ad_type = request.form['ad_type']\n",
        "\n",
        "    # Add to campaigns DataFrame\n",
        "    new_campaign = {'id': len(campaigns) + 1, 'name': name, 'start_date': start_date, 'end_date': end_date, 'status': 'Not Started', 'type': ad_type}\n",
        "    campaigns = campaigns.append(new_campaign, ignore_index=True)\n",
        "    return redirect(url_for('index'))\n",
        "\n",
        "if __name__ == '__main__':\n",
        "    app.run(debug=True)\n"
      ]
    }
  ]
}